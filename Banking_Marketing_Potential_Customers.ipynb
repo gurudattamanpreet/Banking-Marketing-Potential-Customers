{
  "cells": [
    {
      "cell_type": "markdown",
      "metadata": {
        "id": "view-in-github",
        "colab_type": "text"
      },
      "source": [
        "<a href=\"https://colab.research.google.com/github/gurudattamanpreet/Banking-Marketing-Potential-Customers/blob/main/Banking_Marketing_Potential_Customers.ipynb\" target=\"_parent\"><img src=\"https://colab.research.google.com/assets/colab-badge.svg\" alt=\"Open In Colab\"/></a>"
      ]
    },
    {
      "cell_type": "markdown",
      "id": "0d44bb9c",
      "metadata": {
        "id": "0d44bb9c"
      },
      "source": [
        "# Part 2"
      ]
    },
    {
      "cell_type": "markdown",
      "id": "359fc56a",
      "metadata": {
        "id": "359fc56a"
      },
      "source": [
        "**CONTEXT:**  A bank X is on a massive digital transformation for all its departments. Bank has a growing customer base whee  majority of them are liability customers (depositors) vs borrowers (asset customers). The bank is interested in expanding the  borrowers base rapidly to bring in more business via loan interests. A campaign that the bank ran in last quarter showed an  average single digit conversion rate. Digital transformation being the core strength of the business strategy, marketing  department wants to devise effective campaigns with better target marketing to increase the conversion ratio to double digit  with same budget as per last campaign."
      ]
    },
    {
      "cell_type": "markdown",
      "id": "10e1f4ee",
      "metadata": {
        "id": "10e1f4ee"
      },
      "source": [
        "**DATA DICTIONARY:**\n",
        "\n",
        "1. ID: Customer ID\n",
        "2. Age: Customer’s approximate age.\n",
        "3. CustomerSince: Customer of the bank since. [unit is masked]\n",
        "4. HighestSpend: Customer’s highest spend so far in one transaction. [unit is masked]\n",
        "5. ZipCode: Customer’s zip code.\n",
        "6. HiddenScore: A score associated to the customer which is masked by the bank as an IP.\n",
        "7. MonthlyAverageSpend: Customer’s monthly average spend so far. [unit is masked]\n",
        "8. Level: A level associated to the customer which is masked by the bank as an IP.\n",
        "9. Mortgage: Customer’s mortgage. [unit is masked]\n",
        "10. Security: Customer’s security asset with the bank. [unit is masked]\n",
        "11. FixedDepositAccount: Customer’s fixed deposit account with the bank. [unit is masked]\n",
        "12. InternetBanking: if the customer uses internet banking.\n",
        "13. CreditCard: if the customer uses bank’s credit card.\n",
        "14. LoanOnCard: if the customer has a loan on credit card.\n",
        "\n",
        "\n",
        "**PROJECT OBJECTIVE:** Build a Machine Learning model to perform focused marketing by predicting the potential customers who will convert using the historical dataset.\n",
        "\n",
        "\n",
        "**STEPS AND TASK [30 Marks]:**\n",
        "\n",
        "1. **Data Understanding and Preparation: [5 Marks]**\n",
        "    * Read both the Datasets ‘Data1’ and ‘Data 2’ as DataFrame and store them into two separate variables. [1 Marks]\n",
        "    * Print shape and Column Names and DataTypes of both the Dataframe. [1 Marks]\n",
        "    * Merge both the Dataframe on ‘ID’ feature to form a single DataFrame [2 Marks]\n",
        "    * Change Datatype of below features to ‘Object’ [1 Marks]\n",
        " \t    * *[‘CreditCard’, ‘InternetBanking’, ‘FixedDepositAccount’, ‘Security’, ‘Level’, ‘HiddenScore’]*\n",
        "\t\t* *[Reason behind performing this operation:- Values in these features are binary i.e. 1/0. But DataType is ‘int’/’float’ which is not expected.]*\n",
        "2. **Data Exploration and Analysis: [5 Marks]**\n",
        "    * Visualize distribution of Target variable ‘LoanOnCard’ and clearly share insights. [2 Marks]\n",
        "    * Check the percentage of missing values and impute if required. [1 Marks]\n",
        "    * Check for unexpected values in each categorical variable and impute with best suitable value. [2 Marks]\n",
        "\t\t* *[Unexpected values means if all values in a feature are 0/1 then ‘?’, ‘a’, 1.5 are unexpected values which needs treatment]*\n",
        "3. **Data Preparation and model building: [10 Marks]**\n",
        "    * Split data into X and Y. [1 Marks]\n",
        "        * *[Recommended to drop ID & ZipCode. LoanOnCard is target Variable]*\n",
        "    * Split data into train and test. Keep 25% data reserved for testing. [1 Marks]\n",
        "    * Train a Supervised Learning Classification base model - Logistic Regression. [2 Marks]\n",
        "    * Print evaluation metrics for the model and clearly share insights. [1 Marks]\n",
        "    * Balance the data using the right balancing technique. [2 Marks]\n",
        "        * Check distribution of the target variable\n",
        "        * Say output is class A : 20% and class B : 80%\n",
        "        * Here you need to balance the target variable as 50:50.\n",
        "        * Try appropriate method to achieve the same.\n",
        "    * Again train the same previous model on balanced data. [1 Marks]\n",
        "    * Print evaluation metrics and clearly share differences observed. [2 Marks]\n",
        "4. **Performance Improvement: [10 Marks]**\n",
        "    * Train a base model each for SVM, KNN. [4 Marks]\n",
        "    * Tune parameters for each of the models wherever required and finalize a model. [3 Marks]\n",
        "        * *(Optional: Experiment with various Hyperparameters - Research required)*\n",
        "    * Print evaluation metrics for final model. [1 Marks]\n",
        "    * Share improvement achieved from base model to final model. [2 Marks]"
      ]
    },
    {
      "cell_type": "markdown",
      "id": "70e1d3dc",
      "metadata": {
        "id": "70e1d3dc"
      },
      "source": [
        "# Q1 Data Understanding and Preparation"
      ]
    },
    {
      "cell_type": "code",
      "source": [
        "import pandas as pd\n",
        "import numpy as np\n",
        "import seaborn as sns\n",
        "from sklearn.model_selection import train_test_split\n",
        "import matplotlib.pyplot as plt\n",
        "from sklearn.metrics import accuracy_score, classification_report\n",
        "from sklearn.neighbors import KNeighborsClassifier"
      ],
      "metadata": {
        "id": "Pi90miJxili8"
      },
      "id": "Pi90miJxili8",
      "execution_count": 3,
      "outputs": []
    },
    {
      "cell_type": "code",
      "execution_count": 4,
      "id": "020b52de",
      "metadata": {
        "id": "020b52de"
      },
      "outputs": [],
      "source": [
        "# A"
      ]
    },
    {
      "cell_type": "code",
      "execution_count": 5,
      "id": "a913a3ad",
      "metadata": {
        "id": "a913a3ad"
      },
      "outputs": [],
      "source": [
        "url1='https://raw.githubusercontent.com/gurudattamanpreet/Banking-Marketing-Potential-Customers/refs/heads/main/Data1.csv'\n",
        "url2='https://raw.githubusercontent.com/gurudattamanpreet/Banking-Marketing-Potential-Customers/refs/heads/main/Data2.csv'\n",
        "df1 = pd.read_csv(url1)\n",
        "df2 = pd.read_csv(url2)"
      ]
    },
    {
      "cell_type": "code",
      "execution_count": 6,
      "id": "d6a3c8d6",
      "metadata": {
        "id": "d6a3c8d6"
      },
      "outputs": [],
      "source": [
        "# B"
      ]
    },
    {
      "cell_type": "code",
      "execution_count": 7,
      "id": "76ed515e",
      "metadata": {
        "id": "76ed515e",
        "outputId": "acda985c-a92d-4665-978c-61e68250dbc6",
        "colab": {
          "base_uri": "https://localhost:8080/"
        }
      },
      "outputs": [
        {
          "output_type": "stream",
          "name": "stdout",
          "text": [
            "<class 'pandas.core.frame.DataFrame'>\n",
            "RangeIndex: 5000 entries, 0 to 4999\n",
            "Data columns (total 8 columns):\n",
            " #   Column               Non-Null Count  Dtype  \n",
            "---  ------               --------------  -----  \n",
            " 0   ID                   5000 non-null   int64  \n",
            " 1   Age                  5000 non-null   int64  \n",
            " 2   CustomerSince        5000 non-null   int64  \n",
            " 3   HighestSpend         5000 non-null   int64  \n",
            " 4   ZipCode              5000 non-null   int64  \n",
            " 5   HiddenScore          5000 non-null   int64  \n",
            " 6   MonthlyAverageSpend  5000 non-null   float64\n",
            " 7   Level                5000 non-null   int64  \n",
            "dtypes: float64(1), int64(7)\n",
            "memory usage: 312.6 KB\n",
            "None\n",
            "------------------------------\n",
            "<class 'pandas.core.frame.DataFrame'>\n",
            "RangeIndex: 5000 entries, 0 to 4999\n",
            "Data columns (total 7 columns):\n",
            " #   Column               Non-Null Count  Dtype  \n",
            "---  ------               --------------  -----  \n",
            " 0   ID                   5000 non-null   int64  \n",
            " 1   Mortgage             5000 non-null   int64  \n",
            " 2   Security             5000 non-null   int64  \n",
            " 3   FixedDepositAccount  5000 non-null   int64  \n",
            " 4   InternetBanking      5000 non-null   int64  \n",
            " 5   CreditCard           5000 non-null   int64  \n",
            " 6   LoanOnCard           4980 non-null   float64\n",
            "dtypes: float64(1), int64(6)\n",
            "memory usage: 273.6 KB\n",
            "None\n"
          ]
        }
      ],
      "source": [
        "print(df1.info())\n",
        "print('-'*30)\n",
        "print(df2.info())"
      ]
    },
    {
      "cell_type": "code",
      "execution_count": 8,
      "id": "e01d5a50",
      "metadata": {
        "id": "e01d5a50"
      },
      "outputs": [],
      "source": [
        "# C"
      ]
    },
    {
      "cell_type": "code",
      "execution_count": 9,
      "id": "8fdbaf38",
      "metadata": {
        "id": "8fdbaf38"
      },
      "outputs": [],
      "source": [
        "df = pd.merge(df1, df2,on='ID')"
      ]
    },
    {
      "cell_type": "code",
      "execution_count": 10,
      "id": "945ea29b",
      "metadata": {
        "id": "945ea29b"
      },
      "outputs": [],
      "source": [
        "# D"
      ]
    },
    {
      "cell_type": "code",
      "execution_count": 11,
      "id": "0e7c1f85",
      "metadata": {
        "id": "0e7c1f85",
        "scrolled": true
      },
      "outputs": [],
      "source": [
        "# lst_key = ['LoanOnCard','CreditCard','InternetBanking','FixedDepositAccount','Security','Level','HiddenScore']\n",
        "lst_key = ['CreditCard','InternetBanking','FixedDepositAccount','Security','Level','HiddenScore']\n",
        "lst_val = ['object']*len(lst_key)"
      ]
    },
    {
      "cell_type": "code",
      "execution_count": 12,
      "id": "93877d5c",
      "metadata": {
        "id": "93877d5c"
      },
      "outputs": [],
      "source": [
        "data_dict = {lst_key[i]: lst_val[i] for i in range(len(lst_key))}"
      ]
    },
    {
      "cell_type": "code",
      "execution_count": 13,
      "id": "08acd1b4",
      "metadata": {
        "id": "08acd1b4",
        "outputId": "1b150ef3-f784-40fd-8a72-68d31f622c08",
        "colab": {
          "base_uri": "https://localhost:8080/"
        }
      },
      "outputs": [
        {
          "output_type": "execute_result",
          "data": {
            "text/plain": [
              "{'CreditCard': 'object',\n",
              " 'InternetBanking': 'object',\n",
              " 'FixedDepositAccount': 'object',\n",
              " 'Security': 'object',\n",
              " 'Level': 'object',\n",
              " 'HiddenScore': 'object'}"
            ]
          },
          "metadata": {},
          "execution_count": 13
        }
      ],
      "source": [
        "data_dict"
      ]
    },
    {
      "cell_type": "code",
      "execution_count": 14,
      "id": "37bae031",
      "metadata": {
        "id": "37bae031"
      },
      "outputs": [],
      "source": [
        "df = df.astype(data_dict)"
      ]
    },
    {
      "cell_type": "code",
      "execution_count": 15,
      "id": "feb2eb69",
      "metadata": {
        "id": "feb2eb69",
        "outputId": "5470f006-f488-477a-dfec-224b88f393dc",
        "colab": {
          "base_uri": "https://localhost:8080/"
        }
      },
      "outputs": [
        {
          "output_type": "stream",
          "name": "stdout",
          "text": [
            "<class 'pandas.core.frame.DataFrame'>\n",
            "RangeIndex: 5000 entries, 0 to 4999\n",
            "Data columns (total 14 columns):\n",
            " #   Column               Non-Null Count  Dtype  \n",
            "---  ------               --------------  -----  \n",
            " 0   ID                   5000 non-null   int64  \n",
            " 1   Age                  5000 non-null   int64  \n",
            " 2   CustomerSince        5000 non-null   int64  \n",
            " 3   HighestSpend         5000 non-null   int64  \n",
            " 4   ZipCode              5000 non-null   int64  \n",
            " 5   HiddenScore          5000 non-null   object \n",
            " 6   MonthlyAverageSpend  5000 non-null   float64\n",
            " 7   Level                5000 non-null   object \n",
            " 8   Mortgage             5000 non-null   int64  \n",
            " 9   Security             5000 non-null   object \n",
            " 10  FixedDepositAccount  5000 non-null   object \n",
            " 11  InternetBanking      5000 non-null   object \n",
            " 12  CreditCard           5000 non-null   object \n",
            " 13  LoanOnCard           4980 non-null   float64\n",
            "dtypes: float64(2), int64(6), object(6)\n",
            "memory usage: 547.0+ KB\n"
          ]
        }
      ],
      "source": [
        "df.info()"
      ]
    },
    {
      "cell_type": "markdown",
      "id": "692bcb82",
      "metadata": {
        "id": "692bcb82"
      },
      "source": [
        "# Q2 Data Exploration and Analysis"
      ]
    },
    {
      "cell_type": "code",
      "execution_count": 16,
      "id": "e16946f8",
      "metadata": {
        "id": "e16946f8"
      },
      "outputs": [],
      "source": [
        "# A"
      ]
    },
    {
      "cell_type": "code",
      "execution_count": 17,
      "id": "c9c21880",
      "metadata": {
        "id": "c9c21880",
        "outputId": "d7164f26-d7bd-495e-ccf5-d387e8d53a27",
        "colab": {
          "base_uri": "https://localhost:8080/",
          "height": 474
        }
      },
      "outputs": [
        {
          "output_type": "execute_result",
          "data": {
            "text/plain": [
              "<Axes: xlabel='LoanOnCard'>"
            ]
          },
          "metadata": {},
          "execution_count": 17
        },
        {
          "output_type": "display_data",
          "data": {
            "text/plain": [
              "<Figure size 640x480 with 1 Axes>"
            ],
            "image/png": "[encoded data removed]"
          },
          "metadata": {}
        }
      ],
      "source": [
        "df['LoanOnCard'].value_counts().plot(kind='bar')"
      ]
    },
    {
      "cell_type": "markdown",
      "id": "deb85c43",
      "metadata": {
        "id": "deb85c43"
      },
      "source": [
        " Data is highly imbalanced towards 'No'"
      ]
    },
    {
      "cell_type": "code",
      "execution_count": 18,
      "id": "8ff46f3f",
      "metadata": {
        "id": "8ff46f3f"
      },
      "outputs": [],
      "source": [
        "# B"
      ]
    },
    {
      "cell_type": "code",
      "execution_count": 19,
      "id": "a4824af5",
      "metadata": {
        "id": "a4824af5",
        "outputId": "7182df0a-ca51-4b8e-b230-17efea9a2511",
        "scrolled": true,
        "colab": {
          "base_uri": "https://localhost:8080/",
          "height": 517
        }
      },
      "outputs": [
        {
          "output_type": "execute_result",
          "data": {
            "text/plain": [
              "ID                     0.0\n",
              "Age                    0.0\n",
              "CustomerSince          0.0\n",
              "HighestSpend           0.0\n",
              "ZipCode                0.0\n",
              "HiddenScore            0.0\n",
              "MonthlyAverageSpend    0.0\n",
              "Level                  0.0\n",
              "Mortgage               0.0\n",
              "Security               0.0\n",
              "FixedDepositAccount    0.0\n",
              "InternetBanking        0.0\n",
              "CreditCard             0.0\n",
              "LoanOnCard             0.4\n",
              "dtype: float64"
            ],
            "text/html": [
              "<div>\n",
              "<style scoped>\n",
              "    .dataframe tbody tr th:only-of-type {\n",
              "        vertical-align: middle;\n",
              "    }\n",
              "\n",
              "    .dataframe tbody tr th {\n",
              "        vertical-align: top;\n",
              "    }\n",
              "\n",
              "    .dataframe thead th {\n",
              "        text-align: right;\n",
              "    }\n",
              "</style>\n",
              "<table border=\"1\" class=\"dataframe\">\n",
              "  <thead>\n",
              "    <tr style=\"text-align: right;\">\n",
              "      <th></th>\n",
              "      <th>0</th>\n",
              "    </tr>\n",
              "  </thead>\n",
              "  <tbody>\n",
              "    <tr>\n",
              "      <th>ID</th>\n",
              "      <td>0.0</td>\n",
              "    </tr>\n",
              "    <tr>\n",
              "      <th>Age</th>\n",
              "      <td>0.0</td>\n",
              "    </tr>\n",
              "    <tr>\n",
              "      <th>CustomerSince</th>\n",
              "      <td>0.0</td>\n",
              "    </tr>\n",
              "    <tr>\n",
              "      <th>HighestSpend</th>\n",
              "      <td>0.0</td>\n",
              "    </tr>\n",
              "    <tr>\n",
              "      <th>ZipCode</th>\n",
              "      <td>0.0</td>\n",
              "    </tr>\n",
              "    <tr>\n",
              "      <th>HiddenScore</th>\n",
              "      <td>0.0</td>\n",
              "    </tr>\n",
              "    <tr>\n",
              "      <th>MonthlyAverageSpend</th>\n",
              "      <td>0.0</td>\n",
              "    </tr>\n",
              "    <tr>\n",
              "      <th>Level</th>\n",
              "      <td>0.0</td>\n",
              "    </tr>\n",
              "    <tr>\n",
              "      <th>Mortgage</th>\n",
              "      <td>0.0</td>\n",
              "    </tr>\n",
              "    <tr>\n",
              "      <th>Security</th>\n",
              "      <td>0.0</td>\n",
              "    </tr>\n",
              "    <tr>\n",
              "      <th>FixedDepositAccount</th>\n",
              "      <td>0.0</td>\n",
              "    </tr>\n",
              "    <tr>\n",
              "      <th>InternetBanking</th>\n",
              "      <td>0.0</td>\n",
              "    </tr>\n",
              "    <tr>\n",
              "      <th>CreditCard</th>\n",
              "      <td>0.0</td>\n",
              "    </tr>\n",
              "    <tr>\n",
              "      <th>LoanOnCard</th>\n",
              "      <td>0.4</td>\n",
              "    </tr>\n",
              "  </tbody>\n",
              "</table>\n",
              "</div><br><label><b>dtype:</b> float64</label>"
            ]
          },
          "metadata": {},
          "execution_count": 19
        }
      ],
      "source": [
        "df.isna().sum()/len(df)*100"
      ]
    },
    {
      "cell_type": "markdown",
      "id": "3b919a68",
      "metadata": {
        "id": "3b919a68"
      },
      "source": [
        "0.4% Null values in LoanOnCard"
      ]
    },
    {
      "cell_type": "code",
      "execution_count": 20,
      "id": "4eeaff04",
      "metadata": {
        "id": "4eeaff04"
      },
      "outputs": [],
      "source": [
        "df.dropna(inplace=True)"
      ]
    },
    {
      "cell_type": "code",
      "execution_count": 21,
      "id": "a1e47fbd",
      "metadata": {
        "id": "a1e47fbd",
        "outputId": "7e2589f1-a92e-4bb7-8268-0f5173acecfa",
        "colab": {
          "base_uri": "https://localhost:8080/",
          "height": 517
        }
      },
      "outputs": [
        {
          "output_type": "execute_result",
          "data": {
            "text/plain": [
              "ID                     0.0\n",
              "Age                    0.0\n",
              "CustomerSince          0.0\n",
              "HighestSpend           0.0\n",
              "ZipCode                0.0\n",
              "HiddenScore            0.0\n",
              "MonthlyAverageSpend    0.0\n",
              "Level                  0.0\n",
              "Mortgage               0.0\n",
              "Security               0.0\n",
              "FixedDepositAccount    0.0\n",
              "InternetBanking        0.0\n",
              "CreditCard             0.0\n",
              "LoanOnCard             0.0\n",
              "dtype: float64"
            ],
            "text/html": [
              "<div>\n",
              "<style scoped>\n",
              "    .dataframe tbody tr th:only-of-type {\n",
              "        vertical-align: middle;\n",
              "    }\n",
              "\n",
              "    .dataframe tbody tr th {\n",
              "        vertical-align: top;\n",
              "    }\n",
              "\n",
              "    .dataframe thead th {\n",
              "        text-align: right;\n",
              "    }\n",
              "</style>\n",
              "<table border=\"1\" class=\"dataframe\">\n",
              "  <thead>\n",
              "    <tr style=\"text-align: right;\">\n",
              "      <th></th>\n",
              "      <th>0</th>\n",
              "    </tr>\n",
              "  </thead>\n",
              "  <tbody>\n",
              "    <tr>\n",
              "      <th>ID</th>\n",
              "      <td>0.0</td>\n",
              "    </tr>\n",
              "    <tr>\n",
              "      <th>Age</th>\n",
              "      <td>0.0</td>\n",
              "    </tr>\n",
              "    <tr>\n",
              "      <th>CustomerSince</th>\n",
              "      <td>0.0</td>\n",
              "    </tr>\n",
              "    <tr>\n",
              "      <th>HighestSpend</th>\n",
              "      <td>0.0</td>\n",
              "    </tr>\n",
              "    <tr>\n",
              "      <th>ZipCode</th>\n",
              "      <td>0.0</td>\n",
              "    </tr>\n",
              "    <tr>\n",
              "      <th>HiddenScore</th>\n",
              "      <td>0.0</td>\n",
              "    </tr>\n",
              "    <tr>\n",
              "      <th>MonthlyAverageSpend</th>\n",
              "      <td>0.0</td>\n",
              "    </tr>\n",
              "    <tr>\n",
              "      <th>Level</th>\n",
              "      <td>0.0</td>\n",
              "    </tr>\n",
              "    <tr>\n",
              "      <th>Mortgage</th>\n",
              "      <td>0.0</td>\n",
              "    </tr>\n",
              "    <tr>\n",
              "      <th>Security</th>\n",
              "      <td>0.0</td>\n",
              "    </tr>\n",
              "    <tr>\n",
              "      <th>FixedDepositAccount</th>\n",
              "      <td>0.0</td>\n",
              "    </tr>\n",
              "    <tr>\n",
              "      <th>InternetBanking</th>\n",
              "      <td>0.0</td>\n",
              "    </tr>\n",
              "    <tr>\n",
              "      <th>CreditCard</th>\n",
              "      <td>0.0</td>\n",
              "    </tr>\n",
              "    <tr>\n",
              "      <th>LoanOnCard</th>\n",
              "      <td>0.0</td>\n",
              "    </tr>\n",
              "  </tbody>\n",
              "</table>\n",
              "</div><br><label><b>dtype:</b> float64</label>"
            ]
          },
          "metadata": {},
          "execution_count": 21
        }
      ],
      "source": [
        "df.isna().sum()/len(df)*100"
      ]
    },
    {
      "cell_type": "code",
      "execution_count": 22,
      "id": "f06df805",
      "metadata": {
        "id": "f06df805"
      },
      "outputs": [],
      "source": [
        "# C"
      ]
    },
    {
      "cell_type": "code",
      "execution_count": 23,
      "id": "aa5a9f76",
      "metadata": {
        "id": "aa5a9f76"
      },
      "outputs": [],
      "source": [
        "col_list = df.select_dtypes(include='object').columns"
      ]
    },
    {
      "cell_type": "code",
      "execution_count": 24,
      "id": "bf1470a4",
      "metadata": {
        "id": "bf1470a4",
        "outputId": "654e2fff-d74a-4fb2-adfb-46a6a16248b4",
        "colab": {
          "base_uri": "https://localhost:8080/"
        }
      },
      "outputs": [
        {
          "output_type": "stream",
          "name": "stdout",
          "text": [
            "Unique values in HiddenScore are \n",
            " HiddenScore\n",
            "1    1466\n",
            "2    1293\n",
            "4    1215\n",
            "3    1006\n",
            "Name: count, dtype: int64\n",
            "HiddenScore\n",
            "********************\n",
            "Unique values in Level are \n",
            " Level\n",
            "1    2089\n",
            "3    1496\n",
            "2    1395\n",
            "Name: count, dtype: int64\n",
            "Level\n",
            "********************\n",
            "Unique values in Security are \n",
            " Security\n",
            "0    4460\n",
            "1     520\n",
            "Name: count, dtype: int64\n",
            "Security\n",
            "********************\n",
            "Unique values in FixedDepositAccount are \n",
            " FixedDepositAccount\n",
            "0    4678\n",
            "1     302\n",
            "Name: count, dtype: int64\n",
            "FixedDepositAccount\n",
            "********************\n",
            "Unique values in InternetBanking are \n",
            " InternetBanking\n",
            "1    2974\n",
            "0    2006\n",
            "Name: count, dtype: int64\n",
            "InternetBanking\n",
            "********************\n",
            "Unique values in CreditCard are \n",
            " CreditCard\n",
            "0    3514\n",
            "1    1466\n",
            "Name: count, dtype: int64\n",
            "CreditCard\n",
            "********************\n"
          ]
        }
      ],
      "source": [
        "for i in col_list:\n",
        "    print('Unique values in {} are \\n'.format(i),df[i].value_counts())\n",
        "    print(i)\n",
        "    print('*'*20)"
      ]
    },
    {
      "cell_type": "markdown",
      "id": "1c98b2dc",
      "metadata": {
        "id": "1c98b2dc"
      },
      "source": [
        "No unknown values observed"
      ]
    },
    {
      "cell_type": "markdown",
      "id": "09f63f92",
      "metadata": {
        "id": "09f63f92"
      },
      "source": [
        "# Q3 Data Preparation and model building"
      ]
    },
    {
      "cell_type": "code",
      "execution_count": 25,
      "id": "3abf4454",
      "metadata": {
        "id": "3abf4454"
      },
      "outputs": [],
      "source": [
        "# A"
      ]
    },
    {
      "cell_type": "code",
      "execution_count": 26,
      "id": "ae41d94f",
      "metadata": {
        "id": "ae41d94f"
      },
      "outputs": [],
      "source": [
        "X = df.drop(['LoanOnCard','ID','ZipCode'],axis=1)\n",
        "y = df['LoanOnCard']"
      ]
    },
    {
      "cell_type": "code",
      "execution_count": 27,
      "id": "0cffbb9c",
      "metadata": {
        "id": "0cffbb9c"
      },
      "outputs": [],
      "source": [
        "# B"
      ]
    },
    {
      "cell_type": "code",
      "execution_count": 28,
      "id": "8c1954a5",
      "metadata": {
        "id": "8c1954a5"
      },
      "outputs": [],
      "source": [
        "x_train, x_test, y_train, y_test = train_test_split(X,y,random_state = 90,test_size=0.25)"
      ]
    },
    {
      "cell_type": "code",
      "execution_count": 29,
      "id": "3d29c5a0",
      "metadata": {
        "id": "3d29c5a0"
      },
      "outputs": [],
      "source": [
        "# C"
      ]
    },
    {
      "cell_type": "code",
      "execution_count": 30,
      "id": "32e3cb8a",
      "metadata": {
        "id": "32e3cb8a"
      },
      "outputs": [],
      "source": [
        "from sklearn.linear_model import LogisticRegression"
      ]
    },
    {
      "cell_type": "code",
      "execution_count": 31,
      "id": "50d1d37b",
      "metadata": {
        "id": "50d1d37b",
        "outputId": "89234325-0e47-4574-8f8b-be6362e1c18c",
        "colab": {
          "base_uri": "https://localhost:8080/",
          "height": 224
        }
      },
      "outputs": [
        {
          "output_type": "execute_result",
          "data": {
            "text/plain": [
              "      Age  CustomerSince  HighestSpend HiddenScore  MonthlyAverageSpend Level  \\\n",
              "3981   64             39            22           3                 0.50     1   \n",
              "1270   43             18            60           2                 2.20     3   \n",
              "1336   36             12            42           1                 1.33     1   \n",
              "2123   28              2             9           1                 0.10     2   \n",
              "1808   55             31            50           4                 1.50     1   \n",
              "\n",
              "      Mortgage Security FixedDepositAccount InternetBanking CreditCard  \n",
              "3981         0        1                   1               1          1  \n",
              "1270         0        0                   0               0          1  \n",
              "1336         0        0                   0               1          0  \n",
              "2123         0        0                   0               1          0  \n",
              "1808         0        0                   0               1          0  "
            ],
            "text/html": [
              "\n",
              "  <div id=\"df-1ac21ed1-9a29-4706-9c64-e6eda509dd08\" class=\"colab-df-container\">\n",
              "    <div>\n",
              "<style scoped>\n",
              "    .dataframe tbody tr th:only-of-type {\n",
              "        vertical-align: middle;\n",
              "    }\n",
              "\n",
              "    .dataframe tbody tr th {\n",
              "        vertical-align: top;\n",
              "    }\n",
              "\n",
              "    .dataframe thead th {\n",
              "        text-align: right;\n",
              "    }\n",
              "</style>\n",
              "<table border=\"1\" class=\"dataframe\">\n",
              "  <thead>\n",
              "    <tr style=\"text-align: right;\">\n",
              "      <th></th>\n",
              "      <th>Age</th>\n",
              "      <th>CustomerSince</th>\n",
              "      <th>HighestSpend</th>\n",
              "      <th>HiddenScore</th>\n",
              "      <th>MonthlyAverageSpend</th>\n",
              "      <th>Level</th>\n",
              "      <th>Mortgage</th>\n",
              "      <th>Security</th>\n",
              "      <th>FixedDepositAccount</th>\n",
              "      <th>InternetBanking</th>\n",
              "      <th>CreditCard</th>\n",
              "    </tr>\n",
              "  </thead>\n",
              "  <tbody>\n",
              "    <tr>\n",
              "      <th>3981</th>\n",
              "      <td>64</td>\n",
              "      <td>39</td>\n",
              "      <td>22</td>\n",
              "      <td>3</td>\n",
              "      <td>0.50</td>\n",
              "      <td>1</td>\n",
              "      <td>0</td>\n",
              "      <td>1</td>\n",
              "      <td>1</td>\n",
              "      <td>1</td>\n",
              "      <td>1</td>\n",
              "    </tr>\n",
              "    <tr>\n",
              "      <th>1270</th>\n",
              "      <td>43</td>\n",
              "      <td>18</td>\n",
              "      <td>60</td>\n",
              "      <td>2</td>\n",
              "      <td>2.20</td>\n",
              "      <td>3</td>\n",
              "      <td>0</td>\n",
              "      <td>0</td>\n",
              "      <td>0</td>\n",
              "      <td>0</td>\n",
              "      <td>1</td>\n",
              "    </tr>\n",
              "    <tr>\n",
              "      <th>1336</th>\n",
              "      <td>36</td>\n",
              "      <td>12</td>\n",
              "      <td>42</td>\n",
              "      <td>1</td>\n",
              "      <td>1.33</td>\n",
              "      <td>1</td>\n",
              "      <td>0</td>\n",
              "      <td>0</td>\n",
              "      <td>0</td>\n",
              "      <td>1</td>\n",
              "      <td>0</td>\n",
              "    </tr>\n",
              "    <tr>\n",
              "      <th>2123</th>\n",
              "      <td>28</td>\n",
              "      <td>2</td>\n",
              "      <td>9</td>\n",
              "      <td>1</td>\n",
              "      <td>0.10</td>\n",
              "      <td>2</td>\n",
              "      <td>0</td>\n",
              "      <td>0</td>\n",
              "      <td>0</td>\n",
              "      <td>1</td>\n",
              "      <td>0</td>\n",
              "    </tr>\n",
              "    <tr>\n",
              "      <th>1808</th>\n",
              "      <td>55</td>\n",
              "      <td>31</td>\n",
              "      <td>50</td>\n",
              "      <td>4</td>\n",
              "      <td>1.50</td>\n",
              "      <td>1</td>\n",
              "      <td>0</td>\n",
              "      <td>0</td>\n",
              "      <td>0</td>\n",
              "      <td>1</td>\n",
              "      <td>0</td>\n",
              "    </tr>\n",
              "  </tbody>\n",
              "</table>\n",
              "</div>\n",
              "    <div class=\"colab-df-buttons\">\n",
              "\n",
              "  <div class=\"colab-df-container\">\n",
              "    <button class=\"colab-df-convert\" onclick=\"convertToInteractive('df-1ac21ed1-9a29-4706-9c64-e6eda509dd08')\"\n",
              "            title=\"Convert this dataframe to an interactive table.\"\n",
              "            style=\"display:none;\">\n",
              "\n",
              "  <svg xmlns=\"http://www.w3.org/2000/svg\" height=\"24px\" viewBox=\"0 -960 960 960\">\n",
              "    <path d=\"M120-120v-720h720v720H120Zm60-500h600v-160H180v160Zm220 220h160v-160H400v160Zm0 220h160v-160H400v160ZM180-400h160v-160H180v160Zm440 0h160v-160H620v160ZM180-180h160v-160H180v160Zm440 0h160v-160H620v160Z\"/>\n",
              "  </svg>\n",
              "    </button>\n",
              "\n",
              "  <style>\n",
              "    .colab-df-container {\n",
              "      display:flex;\n",
              "      gap: 12px;\n",
              "    }\n",
              "\n",
              "    .colab-df-convert {\n",
              "      background-color: #E8F0FE;\n",
              "      border: none;\n",
              "      border-radius: 50%;\n",
              "      cursor: pointer;\n",
              "      display: none;\n",
              "      fill: #1967D2;\n",
              "      height: 32px;\n",
              "      padding: 0 0 0 0;\n",
              "      width: 32px;\n",
              "    }\n",
              "\n",
              "    .colab-df-convert:hover {\n",
              "      background-color: #E2EBFA;\n",
              "      box-shadow: 0px 1px 2px rgba(60, 64, 67, 0.3), 0px 1px 3px 1px rgba(60, 64, 67, 0.15);\n",
              "      fill: #174EA6;\n",
              "    }\n",
              "\n",
              "    .colab-df-buttons div {\n",
              "      margin-bottom: 4px;\n",
              "    }\n",
              "\n",
              "    [theme=dark] .colab-df-convert {\n",
              "      background-color: #3B4455;\n",
              "      fill: #D2E3FC;\n",
              "    }\n",
              "\n",
              "    [theme=dark] .colab-df-convert:hover {\n",
              "      background-color: #434B5C;\n",
              "      box-shadow: 0px 1px 3px 1px rgba(0, 0, 0, 0.15);\n",
              "      filter: drop-shadow(0px 1px 2px rgba(0, 0, 0, 0.3));\n",
              "      fill: #FFFFFF;\n",
              "    }\n",
              "  </style>\n",
              "\n",
              "    <script>\n",
              "      const buttonEl =\n",
              "        document.querySelector('#df-1ac21ed1-9a29-4706-9c64-e6eda509dd08 button.colab-df-convert');\n",
              "      buttonEl.style.display =\n",
              "        google.colab.kernel.accessAllowed ? 'block' : 'none';\n",
              "\n",
              "      async function convertToInteractive(key) {\n",
              "        const element = document.querySelector('#df-1ac21ed1-9a29-4706-9c64-e6eda509dd08');\n",
              "        const dataTable =\n",
              "          await google.colab.kernel.invokeFunction('convertToInteractive',\n",
              "                                                    [key], {});\n",
              "        if (!dataTable) return;\n",
              "\n",
              "        const docLinkHtml = 'Like what you see? Visit the ' +\n",
              "          '<a target=\"_blank\" href=https://colab.research.google.com/notebooks/data_table.ipynb>data table notebook</a>'\n",
              "          + ' to learn more about interactive tables.';\n",
              "        element.innerHTML = '';\n",
              "        dataTable['output_type'] = 'display_data';\n",
              "        await google.colab.output.renderOutput(dataTable, element);\n",
              "        const docLink = document.createElement('div');\n",
              "        docLink.innerHTML = docLinkHtml;\n",
              "        element.appendChild(docLink);\n",
              "      }\n",
              "    </script>\n",
              "  </div>\n",
              "\n",
              "\n",
              "<div id=\"df-b7f6be31-5218-43d2-a7e6-29a52c66bb5c\">\n",
              "  <button class=\"colab-df-quickchart\" onclick=\"quickchart('df-b7f6be31-5218-43d2-a7e6-29a52c66bb5c')\"\n",
              "            title=\"Suggest charts\"\n",
              "            style=\"display:none;\">\n",
              "\n",
              "<svg xmlns=\"http://www.w3.org/2000/svg\" height=\"24px\"viewBox=\"0 0 24 24\"\n",
              "     width=\"24px\">\n",
              "    <g>\n",
              "        <path d=\"M19 3H5c-1.1 0-2 .9-2 2v14c0 1.1.9 2 2 2h14c1.1 0 2-.9 2-2V5c0-1.1-.9-2-2-2zM9 17H7v-7h2v7zm4 0h-2V7h2v10zm4 0h-2v-4h2v4z\"/>\n",
              "    </g>\n",
              "</svg>\n",
              "  </button>\n",
              "\n",
              "<style>\n",
              "  .colab-df-quickchart {\n",
              "      --bg-color: #E8F0FE;\n",
              "      --fill-color: #1967D2;\n",
              "      --hover-bg-color: #E2EBFA;\n",
              "      --hover-fill-color: #174EA6;\n",
              "      --disabled-fill-color: #AAA;\n",
              "      --disabled-bg-color: #DDD;\n",
              "  }\n",
              "\n",
              "  [theme=dark] .colab-df-quickchart {\n",
              "      --bg-color: #3B4455;\n",
              "      --fill-color: #D2E3FC;\n",
              "      --hover-bg-color: #434B5C;\n",
              "      --hover-fill-color: #FFFFFF;\n",
              "      --disabled-bg-color: #3B4455;\n",
              "      --disabled-fill-color: #666;\n",
              "  }\n",
              "\n",
              "  .colab-df-quickchart {\n",
              "    background-color: var(--bg-color);\n",
              "    border: none;\n",
              "    border-radius: 50%;\n",
              "    cursor: pointer;\n",
              "    display: none;\n",
              "    fill: var(--fill-color);\n",
              "    height: 32px;\n",
              "    padding: 0;\n",
              "    width: 32px;\n",
              "  }\n",
              "\n",
              "  .colab-df-quickchart:hover {\n",
              "    background-color: var(--hover-bg-color);\n",
              "    box-shadow: 0 1px 2px rgba(60, 64, 67, 0.3), 0 1px 3px 1px rgba(60, 64, 67, 0.15);\n",
              "    fill: var(--button-hover-fill-color);\n",
              "  }\n",
              "\n",
              "  .colab-df-quickchart-complete:disabled,\n",
              "  .colab-df-quickchart-complete:disabled:hover {\n",
              "    background-color: var(--disabled-bg-color);\n",
              "    fill: var(--disabled-fill-color);\n",
              "    box-shadow: none;\n",
              "  }\n",
              "\n",
              "  .colab-df-spinner {\n",
              "    border: 2px solid var(--fill-color);\n",
              "    border-color: transparent;\n",
              "    border-bottom-color: var(--fill-color);\n",
              "    animation:\n",
              "      spin 1s steps(1) infinite;\n",
              "  }\n",
              "\n",
              "  @keyframes spin {\n",
              "    0% {\n",
              "      border-color: transparent;\n",
              "      border-bottom-color: var(--fill-color);\n",
              "      border-left-color: var(--fill-color);\n",
              "    }\n",
              "    20% {\n",
              "      border-color: transparent;\n",
              "      border-left-color: var(--fill-color);\n",
              "      border-top-color: var(--fill-color);\n",
              "    }\n",
              "    30% {\n",
              "      border-color: transparent;\n",
              "      border-left-color: var(--fill-color);\n",
              "      border-top-color: var(--fill-color);\n",
              "      border-right-color: var(--fill-color);\n",
              "    }\n",
              "    40% {\n",
              "      border-color: transparent;\n",
              "      border-right-color: var(--fill-color);\n",
              "      border-top-color: var(--fill-color);\n",
              "    }\n",
              "    60% {\n",
              "      border-color: transparent;\n",
              "      border-right-color: var(--fill-color);\n",
              "    }\n",
              "    80% {\n",
              "      border-color: transparent;\n",
              "      border-right-color: var(--fill-color);\n",
              "      border-bottom-color: var(--fill-color);\n",
              "    }\n",
              "    90% {\n",
              "      border-color: transparent;\n",
              "      border-bottom-color: var(--fill-color);\n",
              "    }\n",
              "  }\n",
              "</style>\n",
              "\n",
              "  <script>\n",
              "    async function quickchart(key) {\n",
              "      const quickchartButtonEl =\n",
              "        document.querySelector('#' + key + ' button');\n",
              "      quickchartButtonEl.disabled = true;  // To prevent multiple clicks.\n",
              "      quickchartButtonEl.classList.add('colab-df-spinner');\n",
              "      try {\n",
              "        const charts = await google.colab.kernel.invokeFunction(\n",
              "            'suggestCharts', [key], {});\n",
              "      } catch (error) {\n",
              "        console.error('Error during call to suggestCharts:', error);\n",
              "      }\n",
              "      quickchartButtonEl.classList.remove('colab-df-spinner');\n",
              "      quickchartButtonEl.classList.add('colab-df-quickchart-complete');\n",
              "    }\n",
              "    (() => {\n",
              "      let quickchartButtonEl =\n",
              "        document.querySelector('#df-b7f6be31-5218-43d2-a7e6-29a52c66bb5c button');\n",
              "      quickchartButtonEl.style.display =\n",
              "        google.colab.kernel.accessAllowed ? 'block' : 'none';\n",
              "    })();\n",
              "  </script>\n",
              "</div>\n",
              "\n",
              "    </div>\n",
              "  </div>\n"
            ],
            "application/vnd.google.colaboratory.intrinsic+json": {
              "type": "dataframe",
              "variable_name": "x_train",
              "repr_error": "0"
            }
          },
          "metadata": {},
          "execution_count": 31
        }
      ],
      "source": [
        "x_train.head()"
      ]
    },
    {
      "cell_type": "code",
      "execution_count": 32,
      "id": "cb963b3b",
      "metadata": {
        "id": "cb963b3b",
        "outputId": "1497e633-4593-4676-cd85-a3f7590a75a5",
        "scrolled": true,
        "colab": {
          "base_uri": "https://localhost:8080/",
          "height": 80
        }
      },
      "outputs": [
        {
          "output_type": "execute_result",
          "data": {
            "text/plain": [
              "LogisticRegression(max_iter=2000)"
            ],
            "text/html": [
              "<style>#sk-container-id-1 {\n",
              "  /* Definition of color scheme common for light and dark mode */\n",
              "  --sklearn-color-text: black;\n",
              "  --sklearn-color-line: gray;\n",
              "  /* Definition of color scheme for unfitted estimators */\n",
              "  --sklearn-color-unfitted-level-0: #fff5e6;\n",
              "  --sklearn-color-unfitted-level-1: #f6e4d2;\n",
              "  --sklearn-color-unfitted-level-2: #ffe0b3;\n",
              "  --sklearn-color-unfitted-level-3: chocolate;\n",
              "  /* Definition of color scheme for fitted estimators */\n",
              "  --sklearn-color-fitted-level-0: #f0f8ff;\n",
              "  --sklearn-color-fitted-level-1: #d4ebff;\n",
              "  --sklearn-color-fitted-level-2: #b3dbfd;\n",
              "  --sklearn-color-fitted-level-3: cornflowerblue;\n",
              "\n",
              "  /* Specific color for light theme */\n",
              "  --sklearn-color-text-on-default-background: var(--sg-text-color, var(--theme-code-foreground, var(--jp-content-font-color1, black)));\n",
              "  --sklearn-color-background: var(--sg-background-color, var(--theme-background, var(--jp-layout-color0, white)));\n",
              "  --sklearn-color-border-box: var(--sg-text-color, var(--theme-code-foreground, var(--jp-content-font-color1, black)));\n",
              "  --sklearn-color-icon: #696969;\n",
              "\n",
              "  @media (prefers-color-scheme: dark) {\n",
              "    /* Redefinition of color scheme for dark theme */\n",
              "    --sklearn-color-text-on-default-background: var(--sg-text-color, var(--theme-code-foreground, var(--jp-content-font-color1, white)));\n",
              "    --sklearn-color-background: var(--sg-background-color, var(--theme-background, var(--jp-layout-color0, #111)));\n",
              "    --sklearn-color-border-box: var(--sg-text-color, var(--theme-code-foreground, var(--jp-content-font-color1, white)));\n",
              "    --sklearn-color-icon: #878787;\n",
              "  }\n",
              "}\n",
              "\n",
              "#sk-container-id-1 {\n",
              "  color: var(--sklearn-color-text);\n",
              "}\n",
              "\n",
              "#sk-container-id-1 pre {\n",
              "  padding: 0;\n",
              "}\n",
              "\n",
              "#sk-container-id-1 input.sk-hidden--visually {\n",
              "  border: 0;\n",
              "  clip: rect(1px 1px 1px 1px);\n",
              "  clip: rect(1px, 1px, 1px, 1px);\n",
              "  height: 1px;\n",
              "  margin: -1px;\n",
              "  overflow: hidden;\n",
              "  padding: 0;\n",
              "  position: absolute;\n",
              "  width: 1px;\n",
              "}\n",
              "\n",
              "#sk-container-id-1 div.sk-dashed-wrapped {\n",
              "  border: 1px dashed var(--sklearn-color-line);\n",
              "  margin: 0 0.4em 0.5em 0.4em;\n",
              "  box-sizing: border-box;\n",
              "  padding-bottom: 0.4em;\n",
              "  background-color: var(--sklearn-color-background);\n",
              "}\n",
              "\n",
              "#sk-container-id-1 div.sk-container {\n",
              "  /* jupyter's `normalize.less` sets `[hidden] { display: none; }`\n",
              "     but bootstrap.min.css set `[hidden] { display: none !important; }`\n",
              "     so we also need the `!important` here to be able to override the\n",
              "     default hidden behavior on the sphinx rendered scikit-learn.org.\n",
              "     See: https://github.com/scikit-learn/scikit-learn/issues/21755 */\n",
              "  display: inline-block !important;\n",
              "  position: relative;\n",
              "}\n",
              "\n",
              "#sk-container-id-1 div.sk-text-repr-fallback {\n",
              "  display: none;\n",
              "}\n",
              "\n",
              "div.sk-parallel-item,\n",
              "div.sk-serial,\n",
              "div.sk-item {\n",
              "  /* draw centered vertical line to link estimators */\n",
              "  background-image: linear-gradient(var(--sklearn-color-text-on-default-background), var(--sklearn-color-text-on-default-background));\n",
              "  background-size: 2px 100%;\n",
              "  background-repeat: no-repeat;\n",
              "  background-position: center center;\n",
              "}\n",
              "\n",
              "/* Parallel-specific style estimator block */\n",
              "\n",
              "#sk-container-id-1 div.sk-parallel-item::after {\n",
              "  content: \"\";\n",
              "  width: 100%;\n",
              "  border-bottom: 2px solid var(--sklearn-color-text-on-default-background);\n",
              "  flex-grow: 1;\n",
              "}\n",
              "\n",
              "#sk-container-id-1 div.sk-parallel {\n",
              "  display: flex;\n",
              "  align-items: stretch;\n",
              "  justify-content: center;\n",
              "  background-color: var(--sklearn-color-background);\n",
              "  position: relative;\n",
              "}\n",
              "\n",
              "#sk-container-id-1 div.sk-parallel-item {\n",
              "  display: flex;\n",
              "  flex-direction: column;\n",
              "}\n",
              "\n",
              "#sk-container-id-1 div.sk-parallel-item:first-child::after {\n",
              "  align-self: flex-end;\n",
              "  width: 50%;\n",
              "}\n",
              "\n",
              "#sk-container-id-1 div.sk-parallel-item:last-child::after {\n",
              "  align-self: flex-start;\n",
              "  width: 50%;\n",
              "}\n",
              "\n",
              "#sk-container-id-1 div.sk-parallel-item:only-child::after {\n",
              "  width: 0;\n",
              "}\n",
              "\n",
              "/* Serial-specific style estimator block */\n",
              "\n",
              "#sk-container-id-1 div.sk-serial {\n",
              "  display: flex;\n",
              "  flex-direction: column;\n",
              "  align-items: center;\n",
              "  background-color: var(--sklearn-color-background);\n",
              "  padding-right: 1em;\n",
              "  padding-left: 1em;\n",
              "}\n",
              "\n",
              "\n",
              "/* Toggleable style: style used for estimator/Pipeline/ColumnTransformer box that is\n",
              "clickable and can be expanded/collapsed.\n",
              "- Pipeline and ColumnTransformer use this feature and define the default style\n",
              "- Estimators will overwrite some part of the style using the `sk-estimator` class\n",
              "*/\n",
              "\n",
              "/* Pipeline and ColumnTransformer style (default) */\n",
              "\n",
              "#sk-container-id-1 div.sk-toggleable {\n",
              "  /* Default theme specific background. It is overwritten whether we have a\n",
              "  specific estimator or a Pipeline/ColumnTransformer */\n",
              "  background-color: var(--sklearn-color-background);\n",
              "}\n",
              "\n",
              "/* Toggleable label */\n",
              "#sk-container-id-1 label.sk-toggleable__label {\n",
              "  cursor: pointer;\n",
              "  display: block;\n",
              "  width: 100%;\n",
              "  margin-bottom: 0;\n",
              "  padding: 0.5em;\n",
              "  box-sizing: border-box;\n",
              "  text-align: center;\n",
              "}\n",
              "\n",
              "#sk-container-id-1 label.sk-toggleable__label-arrow:before {\n",
              "  /* Arrow on the left of the label */\n",
              "  content: \"▸\";\n",
              "  float: left;\n",
              "  margin-right: 0.25em;\n",
              "  color: var(--sklearn-color-icon);\n",
              "}\n",
              "\n",
              "#sk-container-id-1 label.sk-toggleable__label-arrow:hover:before {\n",
              "  color: var(--sklearn-color-text);\n",
              "}\n",
              "\n",
              "/* Toggleable content - dropdown */\n",
              "\n",
              "#sk-container-id-1 div.sk-toggleable__content {\n",
              "  max-height: 0;\n",
              "  max-width: 0;\n",
              "  overflow: hidden;\n",
              "  text-align: left;\n",
              "  /* unfitted */\n",
              "  background-color: var(--sklearn-color-unfitted-level-0);\n",
              "}\n",
              "\n",
              "#sk-container-id-1 div.sk-toggleable__content.fitted {\n",
              "  /* fitted */\n",
              "  background-color: var(--sklearn-color-fitted-level-0);\n",
              "}\n",
              "\n",
              "#sk-container-id-1 div.sk-toggleable__content pre {\n",
              "  margin: 0.2em;\n",
              "  border-radius: 0.25em;\n",
              "  color: var(--sklearn-color-text);\n",
              "  /* unfitted */\n",
              "  background-color: var(--sklearn-color-unfitted-level-0);\n",
              "}\n",
              "\n",
              "#sk-container-id-1 div.sk-toggleable__content.fitted pre {\n",
              "  /* unfitted */\n",
              "  background-color: var(--sklearn-color-fitted-level-0);\n",
              "}\n",
              "\n",
              "#sk-container-id-1 input.sk-toggleable__control:checked~div.sk-toggleable__content {\n",
              "  /* Expand drop-down */\n",
              "  max-height: 200px;\n",
              "  max-width: 100%;\n",
              "  overflow: auto;\n",
              "}\n",
              "\n",
              "#sk-container-id-1 input.sk-toggleable__control:checked~label.sk-toggleable__label-arrow:before {\n",
              "  content: \"▾\";\n",
              "}\n",
              "\n",
              "/* Pipeline/ColumnTransformer-specific style */\n",
              "\n",
              "#sk-container-id-1 div.sk-label input.sk-toggleable__control:checked~label.sk-toggleable__label {\n",
              "  color: var(--sklearn-color-text);\n",
              "  background-color: var(--sklearn-color-unfitted-level-2);\n",
              "}\n",
              "\n",
              "#sk-container-id-1 div.sk-label.fitted input.sk-toggleable__control:checked~label.sk-toggleable__label {\n",
              "  background-color: var(--sklearn-color-fitted-level-2);\n",
              "}\n",
              "\n",
              "/* Estimator-specific style */\n",
              "\n",
              "/* Colorize estimator box */\n",
              "#sk-container-id-1 div.sk-estimator input.sk-toggleable__control:checked~label.sk-toggleable__label {\n",
              "  /* unfitted */\n",
              "  background-color: var(--sklearn-color-unfitted-level-2);\n",
              "}\n",
              "\n",
              "#sk-container-id-1 div.sk-estimator.fitted input.sk-toggleable__control:checked~label.sk-toggleable__label {\n",
              "  /* fitted */\n",
              "  background-color: var(--sklearn-color-fitted-level-2);\n",
              "}\n",
              "\n",
              "#sk-container-id-1 div.sk-label label.sk-toggleable__label,\n",
              "#sk-container-id-1 div.sk-label label {\n",
              "  /* The background is the default theme color */\n",
              "  color: var(--sklearn-color-text-on-default-background);\n",
              "}\n",
              "\n",
              "/* On hover, darken the color of the background */\n",
              "#sk-container-id-1 div.sk-label:hover label.sk-toggleable__label {\n",
              "  color: var(--sklearn-color-text);\n",
              "  background-color: var(--sklearn-color-unfitted-level-2);\n",
              "}\n",
              "\n",
              "/* Label box, darken color on hover, fitted */\n",
              "#sk-container-id-1 div.sk-label.fitted:hover label.sk-toggleable__label.fitted {\n",
              "  color: var(--sklearn-color-text);\n",
              "  background-color: var(--sklearn-color-fitted-level-2);\n",
              "}\n",
              "\n",
              "/* Estimator label */\n",
              "\n",
              "#sk-container-id-1 div.sk-label label {\n",
              "  font-family: monospace;\n",
              "  font-weight: bold;\n",
              "  display: inline-block;\n",
              "  line-height: 1.2em;\n",
              "}\n",
              "\n",
              "#sk-container-id-1 div.sk-label-container {\n",
              "  text-align: center;\n",
              "}\n",
              "\n",
              "/* Estimator-specific */\n",
              "#sk-container-id-1 div.sk-estimator {\n",
              "  font-family: monospace;\n",
              "  border: 1px dotted var(--sklearn-color-border-box);\n",
              "  border-radius: 0.25em;\n",
              "  box-sizing: border-box;\n",
              "  margin-bottom: 0.5em;\n",
              "  /* unfitted */\n",
              "  background-color: var(--sklearn-color-unfitted-level-0);\n",
              "}\n",
              "\n",
              "#sk-container-id-1 div.sk-estimator.fitted {\n",
              "  /* fitted */\n",
              "  background-color: var(--sklearn-color-fitted-level-0);\n",
              "}\n",
              "\n",
              "/* on hover */\n",
              "#sk-container-id-1 div.sk-estimator:hover {\n",
              "  /* unfitted */\n",
              "  background-color: var(--sklearn-color-unfitted-level-2);\n",
              "}\n",
              "\n",
              "#sk-container-id-1 div.sk-estimator.fitted:hover {\n",
              "  /* fitted */\n",
              "  background-color: var(--sklearn-color-fitted-level-2);\n",
              "}\n",
              "\n",
              "/* Specification for estimator info (e.g. \"i\" and \"?\") */\n",
              "\n",
              "/* Common style for \"i\" and \"?\" */\n",
              "\n",
              ".sk-estimator-doc-link,\n",
              "a:link.sk-estimator-doc-link,\n",
              "a:visited.sk-estimator-doc-link {\n",
              "  float: right;\n",
              "  font-size: smaller;\n",
              "  line-height: 1em;\n",
              "  font-family: monospace;\n",
              "  background-color: var(--sklearn-color-background);\n",
              "  border-radius: 1em;\n",
              "  height: 1em;\n",
              "  width: 1em;\n",
              "  text-decoration: none !important;\n",
              "  margin-left: 1ex;\n",
              "  /* unfitted */\n",
              "  border: var(--sklearn-color-unfitted-level-1) 1pt solid;\n",
              "  color: var(--sklearn-color-unfitted-level-1);\n",
              "}\n",
              "\n",
              ".sk-estimator-doc-link.fitted,\n",
              "a:link.sk-estimator-doc-link.fitted,\n",
              "a:visited.sk-estimator-doc-link.fitted {\n",
              "  /* fitted */\n",
              "  border: var(--sklearn-color-fitted-level-1) 1pt solid;\n",
              "  color: var(--sklearn-color-fitted-level-1);\n",
              "}\n",
              "\n",
              "/* On hover */\n",
              "div.sk-estimator:hover .sk-estimator-doc-link:hover,\n",
              ".sk-estimator-doc-link:hover,\n",
              "div.sk-label-container:hover .sk-estimator-doc-link:hover,\n",
              ".sk-estimator-doc-link:hover {\n",
              "  /* unfitted */\n",
              "  background-color: var(--sklearn-color-unfitted-level-3);\n",
              "  color: var(--sklearn-color-background);\n",
              "  text-decoration: none;\n",
              "}\n",
              "\n",
              "div.sk-estimator.fitted:hover .sk-estimator-doc-link.fitted:hover,\n",
              ".sk-estimator-doc-link.fitted:hover,\n",
              "div.sk-label-container:hover .sk-estimator-doc-link.fitted:hover,\n",
              ".sk-estimator-doc-link.fitted:hover {\n",
              "  /* fitted */\n",
              "  background-color: var(--sklearn-color-fitted-level-3);\n",
              "  color: var(--sklearn-color-background);\n",
              "  text-decoration: none;\n",
              "}\n",
              "\n",
              "/* Span, style for the box shown on hovering the info icon */\n",
              ".sk-estimator-doc-link span {\n",
              "  display: none;\n",
              "  z-index: 9999;\n",
              "  position: relative;\n",
              "  font-weight: normal;\n",
              "  right: .2ex;\n",
              "  padding: .5ex;\n",
              "  margin: .5ex;\n",
              "  width: min-content;\n",
              "  min-width: 20ex;\n",
              "  max-width: 50ex;\n",
              "  color: var(--sklearn-color-text);\n",
              "  box-shadow: 2pt 2pt 4pt #999;\n",
              "  /* unfitted */\n",
              "  background: var(--sklearn-color-unfitted-level-0);\n",
              "  border: .5pt solid var(--sklearn-color-unfitted-level-3);\n",
              "}\n",
              "\n",
              ".sk-estimator-doc-link.fitted span {\n",
              "  /* fitted */\n",
              "  background: var(--sklearn-color-fitted-level-0);\n",
              "  border: var(--sklearn-color-fitted-level-3);\n",
              "}\n",
              "\n",
              ".sk-estimator-doc-link:hover span {\n",
              "  display: block;\n",
              "}\n",
              "\n",
              "/* \"?\"-specific style due to the `<a>` HTML tag */\n",
              "\n",
              "#sk-container-id-1 a.estimator_doc_link {\n",
              "  float: right;\n",
              "  font-size: 1rem;\n",
              "  line-height: 1em;\n",
              "  font-family: monospace;\n",
              "  background-color: var(--sklearn-color-background);\n",
              "  border-radius: 1rem;\n",
              "  height: 1rem;\n",
              "  width: 1rem;\n",
              "  text-decoration: none;\n",
              "  /* unfitted */\n",
              "  color: var(--sklearn-color-unfitted-level-1);\n",
              "  border: var(--sklearn-color-unfitted-level-1) 1pt solid;\n",
              "}\n",
              "\n",
              "#sk-container-id-1 a.estimator_doc_link.fitted {\n",
              "  /* fitted */\n",
              "  border: var(--sklearn-color-fitted-level-1) 1pt solid;\n",
              "  color: var(--sklearn-color-fitted-level-1);\n",
              "}\n",
              "\n",
              "/* On hover */\n",
              "#sk-container-id-1 a.estimator_doc_link:hover {\n",
              "  /* unfitted */\n",
              "  background-color: var(--sklearn-color-unfitted-level-3);\n",
              "  color: var(--sklearn-color-background);\n",
              "  text-decoration: none;\n",
              "}\n",
              "\n",
              "#sk-container-id-1 a.estimator_doc_link.fitted:hover {\n",
              "  /* fitted */\n",
              "  background-color: var(--sklearn-color-fitted-level-3);\n",
              "}\n",
              "</style><div id=\"sk-container-id-1\" class=\"sk-top-container\"><div class=\"sk-text-repr-fallback\"><pre>LogisticRegression(max_iter=2000)</pre><b>In a Jupyter environment, please rerun this cell to show the HTML representation or trust the notebook. <br />On GitHub, the HTML representation is unable to render, please try loading this page with nbviewer.org.</b></div><div class=\"sk-container\" hidden><div class=\"sk-item\"><div class=\"sk-estimator fitted sk-toggleable\"><input class=\"sk-toggleable__control sk-hidden--visually\" id=\"sk-estimator-id-1\" type=\"checkbox\" checked><label for=\"sk-estimator-id-1\" class=\"sk-toggleable__label fitted sk-toggleable__label-arrow fitted\">&nbsp;&nbsp;LogisticRegression<a class=\"sk-estimator-doc-link fitted\" rel=\"noreferrer\" target=\"_blank\" href=\"https://scikit-learn.org/1.5/modules/generated/sklearn.linear_model.LogisticRegression.html\">?<span>Documentation for LogisticRegression</span></a><span class=\"sk-estimator-doc-link fitted\">i<span>Fitted</span></span></label><div class=\"sk-toggleable__content fitted\"><pre>LogisticRegression(max_iter=2000)</pre></div> </div></div></div></div>"
            ]
          },
          "metadata": {},
          "execution_count": 32
        }
      ],
      "source": [
        "lr = LogisticRegression(solver='lbfgs',max_iter=2000)\n",
        "# lr.fit(x_train,y_train.astype('int'))\n",
        "lr.fit(x_train,y_train)\n"
      ]
    },
    {
      "cell_type": "code",
      "execution_count": 33,
      "id": "684c841a",
      "metadata": {
        "id": "684c841a"
      },
      "outputs": [],
      "source": [
        "train_pred = lr.predict(x_train)\n",
        "test_pred = lr.predict(x_test)"
      ]
    },
    {
      "cell_type": "code",
      "execution_count": 34,
      "id": "d33dbffa",
      "metadata": {
        "id": "d33dbffa",
        "outputId": "41f0ab53-0070-4de4-9945-b31ce5c3e98c",
        "colab": {
          "base_uri": "https://localhost:8080/"
        }
      },
      "outputs": [
        {
          "output_type": "execute_result",
          "data": {
            "text/plain": [
              "(1245,)"
            ]
          },
          "metadata": {},
          "execution_count": 34
        }
      ],
      "source": [
        "test_pred.shape"
      ]
    },
    {
      "cell_type": "code",
      "execution_count": 35,
      "id": "fc2962db",
      "metadata": {
        "id": "fc2962db",
        "outputId": "5ca2a1d3-f6c9-44a7-d2fb-02c016d642d6",
        "colab": {
          "base_uri": "https://localhost:8080/"
        }
      },
      "outputs": [
        {
          "output_type": "execute_result",
          "data": {
            "text/plain": [
              "(1245,)"
            ]
          },
          "metadata": {},
          "execution_count": 35
        }
      ],
      "source": [
        "y_test.shape"
      ]
    },
    {
      "cell_type": "code",
      "execution_count": 36,
      "id": "b3e72738",
      "metadata": {
        "id": "b3e72738"
      },
      "outputs": [],
      "source": [
        "# D"
      ]
    },
    {
      "cell_type": "code",
      "execution_count": 37,
      "id": "780a8b3a-71f2-444c-a37a-8e2f09b50047",
      "metadata": {
        "colab": {
          "base_uri": "https://localhost:8080/"
        },
        "id": "780a8b3a-71f2-444c-a37a-8e2f09b50047",
        "outputId": "6458be6d-bf59-4788-8211-d7bf45bc5ae5"
      },
      "outputs": [
        {
          "output_type": "execute_result",
          "data": {
            "text/plain": [
              "0.9504685408299867"
            ]
          },
          "metadata": {},
          "execution_count": 37
        }
      ],
      "source": [
        "accuracy_score(y_train, train_pred)"
      ]
    },
    {
      "cell_type": "code",
      "execution_count": 38,
      "id": "064591f4-8118-4eda-a5b7-26d8cdd53e7a",
      "metadata": {
        "colab": {
          "base_uri": "https://localhost:8080/"
        },
        "id": "064591f4-8118-4eda-a5b7-26d8cdd53e7a",
        "outputId": "7a9ccc7f-5a7b-4c63-b9bc-358ec82083f9"
      },
      "outputs": [
        {
          "output_type": "execute_result",
          "data": {
            "text/plain": [
              "0.9582329317269076"
            ]
          },
          "metadata": {},
          "execution_count": 38
        }
      ],
      "source": [
        "accuracy_score(y_test, test_pred)"
      ]
    },
    {
      "cell_type": "code",
      "execution_count": 39,
      "id": "a429da4a",
      "metadata": {
        "id": "a429da4a",
        "outputId": "859d53ee-b91b-4eee-e8ab-2688e767fcaf",
        "scrolled": true,
        "colab": {
          "base_uri": "https://localhost:8080/"
        }
      },
      "outputs": [
        {
          "output_type": "stream",
          "name": "stdout",
          "text": [
            "              precision    recall  f1-score   support\n",
            "\n",
            "         0.0       0.96      0.99      0.97      3375\n",
            "         1.0       0.83      0.62      0.71       360\n",
            "\n",
            "    accuracy                           0.95      3735\n",
            "   macro avg       0.89      0.80      0.84      3735\n",
            "weighted avg       0.95      0.95      0.95      3735\n",
            "\n"
          ]
        }
      ],
      "source": [
        "print(classification_report(y_train,train_pred))"
      ]
    },
    {
      "cell_type": "code",
      "execution_count": 40,
      "id": "036d0c5a",
      "metadata": {
        "id": "036d0c5a",
        "outputId": "e389269a-20eb-4c18-d254-1ec71d566aca",
        "colab": {
          "base_uri": "https://localhost:8080/"
        }
      },
      "outputs": [
        {
          "output_type": "stream",
          "name": "stdout",
          "text": [
            "              precision    recall  f1-score   support\n",
            "\n",
            "         0.0       0.96      0.99      0.98      1125\n",
            "         1.0       0.90      0.63      0.75       120\n",
            "\n",
            "    accuracy                           0.96      1245\n",
            "   macro avg       0.93      0.81      0.86      1245\n",
            "weighted avg       0.96      0.96      0.95      1245\n",
            "\n"
          ]
        }
      ],
      "source": [
        "print(classification_report(y_test,test_pred))"
      ]
    },
    {
      "cell_type": "markdown",
      "id": "a7101af7",
      "metadata": {
        "id": "a7101af7"
      },
      "source": [
        "It is observed that accuracy is more but precision and recall values are on lower side for event 1."
      ]
    },
    {
      "cell_type": "code",
      "execution_count": 41,
      "id": "d4b1e9d4",
      "metadata": {
        "id": "d4b1e9d4"
      },
      "outputs": [],
      "source": [
        "# E\n",
        "from imblearn.under_sampling import RandomUnderSampler\n",
        "from imblearn.over_sampling import RandomOverSampler"
      ]
    },
    {
      "cell_type": "code",
      "execution_count": 42,
      "id": "acdace20",
      "metadata": {
        "id": "acdace20"
      },
      "outputs": [],
      "source": [
        "undersample = RandomUnderSampler(sampling_strategy=0.5)\n",
        "oversample = RandomOverSampler(sampling_strategy='minority')"
      ]
    },
    {
      "cell_type": "code",
      "execution_count": 43,
      "id": "8a3c4ac5",
      "metadata": {
        "id": "8a3c4ac5"
      },
      "outputs": [],
      "source": [
        "X_under, y_under = undersample.fit_resample(X, y)"
      ]
    },
    {
      "cell_type": "code",
      "execution_count": 44,
      "id": "bfc5929a",
      "metadata": {
        "id": "bfc5929a",
        "outputId": "65e705ee-9a52-4299-e275-34f8bc6a95f8",
        "colab": {
          "base_uri": "https://localhost:8080/"
        }
      },
      "outputs": [
        {
          "output_type": "execute_result",
          "data": {
            "text/plain": [
              "(1440, 11)"
            ]
          },
          "metadata": {},
          "execution_count": 44
        }
      ],
      "source": [
        "X_under.shape"
      ]
    },
    {
      "cell_type": "code",
      "execution_count": 45,
      "id": "b234022b",
      "metadata": {
        "id": "b234022b",
        "outputId": "ceecb8fc-8d00-45b2-b35f-b6a461d62f8c",
        "colab": {
          "base_uri": "https://localhost:8080/"
        }
      },
      "outputs": [
        {
          "output_type": "execute_result",
          "data": {
            "text/plain": [
              "(1440,)"
            ]
          },
          "metadata": {},
          "execution_count": 45
        }
      ],
      "source": [
        "y_under.shape"
      ]
    },
    {
      "cell_type": "code",
      "execution_count": 46,
      "id": "3bac6d8f",
      "metadata": {
        "id": "3bac6d8f",
        "outputId": "2b96c056-8d90-48a9-cbcc-948cfc6cd3ea",
        "colab": {
          "base_uri": "https://localhost:8080/",
          "height": 176
        }
      },
      "outputs": [
        {
          "output_type": "execute_result",
          "data": {
            "text/plain": [
              "LoanOnCard\n",
              "0.0    960\n",
              "1.0    480\n",
              "Name: count, dtype: int64"
            ],
            "text/html": [
              "<div>\n",
              "<style scoped>\n",
              "    .dataframe tbody tr th:only-of-type {\n",
              "        vertical-align: middle;\n",
              "    }\n",
              "\n",
              "    .dataframe tbody tr th {\n",
              "        vertical-align: top;\n",
              "    }\n",
              "\n",
              "    .dataframe thead th {\n",
              "        text-align: right;\n",
              "    }\n",
              "</style>\n",
              "<table border=\"1\" class=\"dataframe\">\n",
              "  <thead>\n",
              "    <tr style=\"text-align: right;\">\n",
              "      <th></th>\n",
              "      <th>count</th>\n",
              "    </tr>\n",
              "    <tr>\n",
              "      <th>LoanOnCard</th>\n",
              "      <th></th>\n",
              "    </tr>\n",
              "  </thead>\n",
              "  <tbody>\n",
              "    <tr>\n",
              "      <th>0.0</th>\n",
              "      <td>960</td>\n",
              "    </tr>\n",
              "    <tr>\n",
              "      <th>1.0</th>\n",
              "      <td>480</td>\n",
              "    </tr>\n",
              "  </tbody>\n",
              "</table>\n",
              "</div><br><label><b>dtype:</b> int64</label>"
            ]
          },
          "metadata": {},
          "execution_count": 46
        }
      ],
      "source": [
        "y_under.value_counts()"
      ]
    },
    {
      "cell_type": "code",
      "execution_count": 47,
      "id": "ffe43ca5",
      "metadata": {
        "id": "ffe43ca5"
      },
      "outputs": [],
      "source": [
        "X_new,y_new = oversample.fit_resample(X_under, y_under)"
      ]
    },
    {
      "cell_type": "code",
      "execution_count": 48,
      "id": "ef30146f",
      "metadata": {
        "id": "ef30146f",
        "outputId": "814ddd07-f8f9-41d8-a19e-8dfa88a9db0e",
        "colab": {
          "base_uri": "https://localhost:8080/",
          "height": 176
        }
      },
      "outputs": [
        {
          "output_type": "execute_result",
          "data": {
            "text/plain": [
              "LoanOnCard\n",
              "0.0    960\n",
              "1.0    960\n",
              "Name: count, dtype: int64"
            ],
            "text/html": [
              "<div>\n",
              "<style scoped>\n",
              "    .dataframe tbody tr th:only-of-type {\n",
              "        vertical-align: middle;\n",
              "    }\n",
              "\n",
              "    .dataframe tbody tr th {\n",
              "        vertical-align: top;\n",
              "    }\n",
              "\n",
              "    .dataframe thead th {\n",
              "        text-align: right;\n",
              "    }\n",
              "</style>\n",
              "<table border=\"1\" class=\"dataframe\">\n",
              "  <thead>\n",
              "    <tr style=\"text-align: right;\">\n",
              "      <th></th>\n",
              "      <th>count</th>\n",
              "    </tr>\n",
              "    <tr>\n",
              "      <th>LoanOnCard</th>\n",
              "      <th></th>\n",
              "    </tr>\n",
              "  </thead>\n",
              "  <tbody>\n",
              "    <tr>\n",
              "      <th>0.0</th>\n",
              "      <td>960</td>\n",
              "    </tr>\n",
              "    <tr>\n",
              "      <th>1.0</th>\n",
              "      <td>960</td>\n",
              "    </tr>\n",
              "  </tbody>\n",
              "</table>\n",
              "</div><br><label><b>dtype:</b> int64</label>"
            ]
          },
          "metadata": {},
          "execution_count": 48
        }
      ],
      "source": [
        "y_new.value_counts()"
      ]
    },
    {
      "cell_type": "code",
      "execution_count": 49,
      "id": "b0dcd7a3",
      "metadata": {
        "id": "b0dcd7a3"
      },
      "outputs": [],
      "source": [
        "#F\n",
        "x_train,x_test,y_train,y_test = train_test_split(X_new,y_new,test_size=0.25,random_state=87)"
      ]
    },
    {
      "cell_type": "code",
      "execution_count": 50,
      "id": "134f1aa1",
      "metadata": {
        "id": "134f1aa1"
      },
      "outputs": [],
      "source": [
        "lr.fit(x_train,y_train)\n",
        "train_pred = lr.predict(x_train)\n",
        "test_pred = lr.predict(x_test)"
      ]
    },
    {
      "cell_type": "code",
      "execution_count": 51,
      "id": "ef133e40",
      "metadata": {
        "id": "ef133e40",
        "outputId": "d2f5797d-1b0d-44e1-eaec-b1b8a15fb95a",
        "colab": {
          "base_uri": "https://localhost:8080/"
        }
      },
      "outputs": [
        {
          "output_type": "stream",
          "name": "stdout",
          "text": [
            "              precision    recall  f1-score   support\n",
            "\n",
            "         0.0       0.90      0.89      0.90       725\n",
            "         1.0       0.89      0.90      0.90       715\n",
            "\n",
            "    accuracy                           0.90      1440\n",
            "   macro avg       0.90      0.90      0.90      1440\n",
            "weighted avg       0.90      0.90      0.90      1440\n",
            "\n"
          ]
        }
      ],
      "source": [
        "# G\n",
        "print(classification_report(y_train,train_pred))"
      ]
    },
    {
      "cell_type": "code",
      "execution_count": 52,
      "id": "99872f9a",
      "metadata": {
        "id": "99872f9a",
        "outputId": "9b0dc214-b721-41cf-ea5d-13f38a483bf8",
        "colab": {
          "base_uri": "https://localhost:8080/"
        }
      },
      "outputs": [
        {
          "output_type": "stream",
          "name": "stdout",
          "text": [
            "              precision    recall  f1-score   support\n",
            "\n",
            "         0.0       0.89      0.91      0.90       235\n",
            "         1.0       0.91      0.89      0.90       245\n",
            "\n",
            "    accuracy                           0.90       480\n",
            "   macro avg       0.90      0.90      0.90       480\n",
            "weighted avg       0.90      0.90      0.90       480\n",
            "\n"
          ]
        }
      ],
      "source": [
        "print(classification_report(y_test,test_pred))"
      ]
    },
    {
      "cell_type": "markdown",
      "id": "50aea614",
      "metadata": {
        "id": "50aea614"
      },
      "source": [
        "Accuracy, precision and recall are improved and close to each other after balancing the data"
      ]
    },
    {
      "cell_type": "markdown",
      "id": "728534e5",
      "metadata": {
        "id": "728534e5"
      },
      "source": [
        "# Q4 Performance Improvement"
      ]
    },
    {
      "cell_type": "code",
      "execution_count": 53,
      "id": "458c840f",
      "metadata": {
        "id": "458c840f"
      },
      "outputs": [],
      "source": [
        "# A\n",
        "from sklearn.svm import SVC\n",
        "from sklearn.naive_bayes import MultinomialNB, GaussianNB"
      ]
    },
    {
      "cell_type": "code",
      "execution_count": 54,
      "id": "5aca2374",
      "metadata": {
        "id": "5aca2374"
      },
      "outputs": [],
      "source": [
        "def classify(classifier):\n",
        "    classifier.fit(x_train,y_train)\n",
        "    pred_train = classifier.predict(x_train)\n",
        "    pred_test = classifier.predict(x_test)\n",
        "    print('Training Performace')\n",
        "    print(classification_report(y_train,pred_train))\n",
        "    print('*'*50)\n",
        "    print('Testing Performace')\n",
        "    print(classification_report(y_test,pred_test))\n",
        ""
      ]
    },
    {
      "cell_type": "code",
      "execution_count": 55,
      "id": "a5f05e98",
      "metadata": {
        "id": "a5f05e98",
        "outputId": "3ae407c9-394e-4735-bef2-9f3ad9baa002",
        "colab": {
          "base_uri": "https://localhost:8080/"
        }
      },
      "outputs": [
        {
          "output_type": "stream",
          "name": "stdout",
          "text": [
            "Training Performace\n",
            "              precision    recall  f1-score   support\n",
            "\n",
            "         0.0       0.92      0.81      0.86       725\n",
            "         1.0       0.83      0.93      0.88       715\n",
            "\n",
            "    accuracy                           0.87      1440\n",
            "   macro avg       0.88      0.87      0.87      1440\n",
            "weighted avg       0.88      0.87      0.87      1440\n",
            "\n",
            "**************************************************\n",
            "Testing Performace\n",
            "              precision    recall  f1-score   support\n",
            "\n",
            "         0.0       0.92      0.82      0.86       235\n",
            "         1.0       0.84      0.93      0.88       245\n",
            "\n",
            "    accuracy                           0.88       480\n",
            "   macro avg       0.88      0.87      0.87       480\n",
            "weighted avg       0.88      0.88      0.87       480\n",
            "\n"
          ]
        }
      ],
      "source": [
        "svm = SVC()\n",
        "classify(svm)"
      ]
    },
    {
      "cell_type": "code",
      "execution_count": 56,
      "id": "244a9297",
      "metadata": {
        "id": "244a9297",
        "outputId": "5d519dba-39ff-4c22-9f26-50170a3e339e",
        "colab": {
          "base_uri": "https://localhost:8080/"
        }
      },
      "outputs": [
        {
          "output_type": "stream",
          "name": "stdout",
          "text": [
            "Training Performace\n",
            "              precision    recall  f1-score   support\n",
            "\n",
            "         0.0       0.80      0.88      0.84       725\n",
            "         1.0       0.87      0.77      0.82       715\n",
            "\n",
            "    accuracy                           0.83      1440\n",
            "   macro avg       0.83      0.83      0.83      1440\n",
            "weighted avg       0.83      0.83      0.83      1440\n",
            "\n",
            "**************************************************\n",
            "Testing Performace\n",
            "              precision    recall  f1-score   support\n",
            "\n",
            "         0.0       0.77      0.90      0.83       235\n",
            "         1.0       0.89      0.75      0.81       245\n",
            "\n",
            "    accuracy                           0.82       480\n",
            "   macro avg       0.83      0.82      0.82       480\n",
            "weighted avg       0.83      0.82      0.82       480\n",
            "\n"
          ]
        }
      ],
      "source": [
        "nb = GaussianNB()\n",
        "classify(nb)"
      ]
    },
    {
      "cell_type": "code",
      "execution_count": 57,
      "id": "d433b5a6",
      "metadata": {
        "id": "d433b5a6"
      },
      "outputs": [],
      "source": [
        "# B & C"
      ]
    },
    {
      "cell_type": "code",
      "execution_count": 58,
      "id": "ed7f8ddc",
      "metadata": {
        "id": "ed7f8ddc"
      },
      "outputs": [],
      "source": [
        "# SVM"
      ]
    },
    {
      "cell_type": "code",
      "execution_count": 59,
      "id": "bc3f292e",
      "metadata": {
        "id": "bc3f292e",
        "outputId": "e0e1778c-1368-4449-efa6-00f0c59ebf01",
        "colab": {
          "base_uri": "https://localhost:8080/"
        }
      },
      "outputs": [
        {
          "output_type": "stream",
          "name": "stdout",
          "text": [
            "Training Performace\n",
            "              precision    recall  f1-score   support\n",
            "\n",
            "         0.0       1.00      1.00      1.00       725\n",
            "         1.0       1.00      1.00      1.00       715\n",
            "\n",
            "    accuracy                           1.00      1440\n",
            "   macro avg       1.00      1.00      1.00      1440\n",
            "weighted avg       1.00      1.00      1.00      1440\n",
            "\n",
            "**************************************************\n",
            "Testing Performace\n",
            "              precision    recall  f1-score   support\n",
            "\n",
            "         0.0       0.80      0.96      0.87       235\n",
            "         1.0       0.95      0.76      0.85       245\n",
            "\n",
            "    accuracy                           0.86       480\n",
            "   macro avg       0.87      0.86      0.86       480\n",
            "weighted avg       0.87      0.86      0.86       480\n",
            "\n"
          ]
        }
      ],
      "source": [
        "svm = SVC(C=5,kernel='rbf',gamma='auto')\n",
        "classify(svm)"
      ]
    },
    {
      "cell_type": "code",
      "execution_count": 60,
      "id": "12894c2b",
      "metadata": {
        "id": "12894c2b"
      },
      "outputs": [],
      "source": [
        "# D"
      ]
    },
    {
      "cell_type": "markdown",
      "id": "906434da",
      "metadata": {
        "id": "906434da"
      },
      "source": [
        "Improvement Achieved:\n",
        "+6-7% in both train and test data for accuracy, precision, recall."
      ]
    }
  ],
  "metadata": {
    "colab": {
      "collapsed_sections": [
        "54c509aa",
        "79f3b126",
        "0cd7b047",
        "dd6a8f59",
        "27ad391a",
        "52a37a69",
        "6feb3abc",
        "d5ee0715",
        "0d44bb9c",
        "70e1d3dc",
        "692bcb82",
        "09f63f92"
      ],
      "provenance": [],
      "include_colab_link": true
    },
    "interpreter": {
      "hash": "3067ead486e059ec00ffe7555bdb889e6e264a24dc711bf108106cc7baee8d5d"
    },
    "kernelspec": {
      "display_name": "Python 3 (ipykernel)",
      "language": "python",
      "name": "python3"
    },
    "language_info": {
      "codemirror_mode": {
        "name": "ipython",
        "version": 3
      },
      "file_extension": ".py",
      "mimetype": "text/x-python",
      "name": "python",
      "nbconvert_exporter": "python",
      "pygments_lexer": "ipython3",
      "version": "3.8.10"
    }
  },
  "nbformat": 4,
  "nbformat_minor": 5
}